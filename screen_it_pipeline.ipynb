{
 "cells": [
  {
   "cell_type": "code",
   "execution_count": 1,
   "id": "1a0e0aaa-ad11-4b9f-bddf-f89cbdcde357",
   "metadata": {},
   "outputs": [],
   "source": [
    "from article_dataset_builder.harvest import Harverster\n",
    "from software_mentions_client.client import software_mentions_client\n",
    "import requests\n",
    "import tqdm"
   ]
  },
  {
   "cell_type": "code",
   "execution_count": 6,
   "id": "bfb00291-e488-43c0-a293-e9a2adbc965a",
   "metadata": {},
   "outputs": [
    {
     "name": "stderr",
     "output_type": "stream",
     "text": [
      "  0%|          | 0/1501 [00:00<?, ?it/s]"
     ]
    },
    {
     "name": "stdout",
     "output_type": "stream",
     "text": [
      "number of articles to harvest: 1501 \n",
      "\n"
     ]
    },
    {
     "name": "stderr",
     "output_type": "stream",
     "text": [
      "  8%|▊         | 126/1501 [00:14<02:39,  8.63it/s]\n"
     ]
    },
    {
     "ename": "ReadersFullError",
     "evalue": "mdb_txn_begin: b'MDB_READERS_FULL: Environment maxreaders limit reached' (Please use a larger Environment(max_readers=) parameter)",
     "output_type": "error",
     "traceback": [
      "\u001b[0;31m---------------------------------------------------------------------------\u001b[0m",
      "\u001b[0;31mIndexError\u001b[0m                                Traceback (most recent call last)",
      "File \u001b[0;32m/srv/conda/envs/notebook/lib/python3.10/site-packages/lmdb/cffi.py:1263\u001b[0m, in \u001b[0;36mTransaction.__init__\u001b[0;34m(self, env, db, parent, write, buffers)\u001b[0m\n\u001b[1;32m   1262\u001b[0m \u001b[38;5;28;01mtry\u001b[39;00m:  \u001b[38;5;66;03m# Exception catch in order to avoid racy 'if txns:' test\u001b[39;00m\n\u001b[0;32m-> 1263\u001b[0m     \u001b[38;5;28mself\u001b[39m\u001b[38;5;241m.\u001b[39m_txn \u001b[38;5;241m=\u001b[39m \u001b[43menv\u001b[49m\u001b[38;5;241;43m.\u001b[39;49m\u001b[43m_spare_txns\u001b[49m\u001b[38;5;241;43m.\u001b[39;49m\u001b[43mpop\u001b[49m\u001b[43m(\u001b[49m\u001b[43m)\u001b[49m\n\u001b[1;32m   1264\u001b[0m     env\u001b[38;5;241m.\u001b[39m_max_spare_txns \u001b[38;5;241m+\u001b[39m\u001b[38;5;241m=\u001b[39m \u001b[38;5;241m1\u001b[39m\n",
      "\u001b[0;31mIndexError\u001b[0m: pop from empty list",
      "\nDuring handling of the above exception, another exception occurred:\n",
      "\u001b[0;31mReadersFullError\u001b[0m                          Traceback (most recent call last)",
      "Cell \u001b[0;32mIn[6], line 3\u001b[0m\n\u001b[1;32m      1\u001b[0m harvester \u001b[38;5;241m=\u001b[39m Harverster(config_path\u001b[38;5;241m=\u001b[39m\u001b[38;5;124m\"\u001b[39m\u001b[38;5;124mconfig/config-harvester.json\u001b[39m\u001b[38;5;124m\"\u001b[39m, dump_metadata\u001b[38;5;241m=\u001b[39m\u001b[38;5;28;01mTrue\u001b[39;00m)\n\u001b[1;32m      2\u001b[0m \u001b[38;5;66;03m#harvester.reset(True)\u001b[39;00m\n\u001b[0;32m----> 3\u001b[0m \u001b[43mharvester\u001b[49m\u001b[38;5;241;43m.\u001b[39;49m\u001b[43mharvest_dois\u001b[49m\u001b[43m(\u001b[49m\u001b[38;5;124;43m\"\u001b[39;49m\u001b[38;5;124;43mdata/comparison_full_set.csv\u001b[39;49m\u001b[38;5;124;43m\"\u001b[39;49m\u001b[43m)\u001b[49m\n",
      "File \u001b[0;32m/srv/conda/envs/notebook/lib/python3.10/site-packages/article_dataset_builder/harvest.py:562\u001b[0m, in \u001b[0;36mHarverster.harvest_dois\u001b[0;34m(self, dois_file)\u001b[0m\n\u001b[1;32m    560\u001b[0m the_doi \u001b[38;5;241m=\u001b[39m _clean_doi(the_doi)\n\u001b[1;32m    561\u001b[0m \u001b[38;5;66;03m# check if the entry has already been processed\u001b[39;00m\n\u001b[0;32m--> 562\u001b[0m identifier \u001b[38;5;241m=\u001b[39m \u001b[38;5;28;43mself\u001b[39;49m\u001b[38;5;241;43m.\u001b[39;49m\u001b[43mgetUUIDByStrongIdentifier\u001b[49m\u001b[43m(\u001b[49m\u001b[43mthe_doi\u001b[49m\u001b[43m)\u001b[49m\n\u001b[1;32m    563\u001b[0m \u001b[38;5;28;01mif\u001b[39;00m identifier \u001b[38;5;129;01mis\u001b[39;00m \u001b[38;5;28;01mNone\u001b[39;00m:\n\u001b[1;32m    564\u001b[0m     \u001b[38;5;66;03m# we need a new identifier\u001b[39;00m\n\u001b[1;32m    565\u001b[0m     identifier \u001b[38;5;241m=\u001b[39m \u001b[38;5;28mstr\u001b[39m(uuid\u001b[38;5;241m.\u001b[39muuid4())\n",
      "File \u001b[0;32m/srv/conda/envs/notebook/lib/python3.10/site-packages/article_dataset_builder/harvest.py:1138\u001b[0m, in \u001b[0;36mHarverster.getUUIDByStrongIdentifier\u001b[0;34m(self, strong_identifier)\u001b[0m\n\u001b[1;32m   1134\u001b[0m \u001b[38;5;28;01mdef\u001b[39;00m \u001b[38;5;21mgetUUIDByStrongIdentifier\u001b[39m(\u001b[38;5;28mself\u001b[39m, strong_identifier):\n\u001b[1;32m   1135\u001b[0m \u001b[38;5;250m    \u001b[39m\u001b[38;5;124;03m\"\"\"\u001b[39;00m\n\u001b[1;32m   1136\u001b[0m \u001b[38;5;124;03m    Strong identifiers depend on the data to be processed but typically includes DOI, sha, PMID, PMCID\u001b[39;00m\n\u001b[1;32m   1137\u001b[0m \u001b[38;5;124;03m    \"\"\"\u001b[39;00m\n\u001b[0;32m-> 1138\u001b[0m     txn \u001b[38;5;241m=\u001b[39m \u001b[38;5;28;43mself\u001b[39;49m\u001b[38;5;241;43m.\u001b[39;49m\u001b[43menv_uuid\u001b[49m\u001b[38;5;241;43m.\u001b[39;49m\u001b[43mbegin\u001b[49m\u001b[43m(\u001b[49m\u001b[43m)\u001b[49m\n\u001b[1;32m   1139\u001b[0m     \u001b[38;5;28;01mreturn\u001b[39;00m txn\u001b[38;5;241m.\u001b[39mget(strong_identifier\u001b[38;5;241m.\u001b[39mencode(encoding\u001b[38;5;241m=\u001b[39m\u001b[38;5;124m'\u001b[39m\u001b[38;5;124mUTF-8\u001b[39m\u001b[38;5;124m'\u001b[39m))\n",
      "File \u001b[0;32m/srv/conda/envs/notebook/lib/python3.10/site-packages/lmdb/cffi.py:1117\u001b[0m, in \u001b[0;36mEnvironment.begin\u001b[0;34m(self, db, parent, write, buffers)\u001b[0m\n\u001b[1;32m   1115\u001b[0m \u001b[38;5;28;01mdef\u001b[39;00m \u001b[38;5;21mbegin\u001b[39m(\u001b[38;5;28mself\u001b[39m, db\u001b[38;5;241m=\u001b[39m\u001b[38;5;28;01mNone\u001b[39;00m, parent\u001b[38;5;241m=\u001b[39m\u001b[38;5;28;01mNone\u001b[39;00m, write\u001b[38;5;241m=\u001b[39m\u001b[38;5;28;01mFalse\u001b[39;00m, buffers\u001b[38;5;241m=\u001b[39m\u001b[38;5;28;01mFalse\u001b[39;00m):\n\u001b[1;32m   1116\u001b[0m \u001b[38;5;250m    \u001b[39m\u001b[38;5;124;03m\"\"\"Shortcut for :py:class:`lmdb.Transaction`\"\"\"\u001b[39;00m\n\u001b[0;32m-> 1117\u001b[0m     \u001b[38;5;28;01mreturn\u001b[39;00m \u001b[43mTransaction\u001b[49m\u001b[43m(\u001b[49m\u001b[38;5;28;43mself\u001b[39;49m\u001b[43m,\u001b[49m\u001b[43m \u001b[49m\u001b[43mdb\u001b[49m\u001b[43m,\u001b[49m\u001b[43m \u001b[49m\u001b[43mparent\u001b[49m\u001b[43m,\u001b[49m\u001b[43m \u001b[49m\u001b[43mwrite\u001b[49m\u001b[43m,\u001b[49m\u001b[43m \u001b[49m\u001b[43mbuffers\u001b[49m\u001b[43m)\u001b[49m\n",
      "File \u001b[0;32m/srv/conda/envs/notebook/lib/python3.10/site-packages/lmdb/cffi.py:1274\u001b[0m, in \u001b[0;36mTransaction.__init__\u001b[0;34m(self, env, db, parent, write, buffers)\u001b[0m\n\u001b[1;32m   1272\u001b[0m rc \u001b[38;5;241m=\u001b[39m _lib\u001b[38;5;241m.\u001b[39mmdb_txn_begin(\u001b[38;5;28mself\u001b[39m\u001b[38;5;241m.\u001b[39m_env, parent_txn, flags, txnpp)\n\u001b[1;32m   1273\u001b[0m \u001b[38;5;28;01mif\u001b[39;00m rc:\n\u001b[0;32m-> 1274\u001b[0m     \u001b[38;5;28;01mraise\u001b[39;00m _error(\u001b[38;5;124m\"\u001b[39m\u001b[38;5;124mmdb_txn_begin\u001b[39m\u001b[38;5;124m\"\u001b[39m, rc)\n\u001b[1;32m   1275\u001b[0m \u001b[38;5;28mself\u001b[39m\u001b[38;5;241m.\u001b[39m_txn \u001b[38;5;241m=\u001b[39m txnpp[\u001b[38;5;241m0\u001b[39m]\n",
      "\u001b[0;31mReadersFullError\u001b[0m: mdb_txn_begin: b'MDB_READERS_FULL: Environment maxreaders limit reached' (Please use a larger Environment(max_readers=) parameter)"
     ]
    }
   ],
   "source": [
    "harvester = Harverster(config_path=\"config/config-harvester.json\", dump_metadata=True)\n",
    "#harvester.reset(True)\n",
    "harvester.harvest_dois(\"data/comparison_full_set.csv\")"
   ]
  }
 ],
 "metadata": {
  "kernelspec": {
   "display_name": "Python 3 (ipykernel)",
   "language": "python",
   "name": "python3"
  },
  "language_info": {
   "codemirror_mode": {
    "name": "ipython",
    "version": 3
   },
   "file_extension": ".py",
   "mimetype": "text/x-python",
   "name": "python",
   "nbconvert_exporter": "python",
   "pygments_lexer": "ipython3",
   "version": "3.10.9"
  }
 },
 "nbformat": 4,
 "nbformat_minor": 5
}
